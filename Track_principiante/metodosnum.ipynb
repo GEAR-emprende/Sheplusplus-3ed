{
 "cells": [
  {
   "cell_type": "markdown",
   "metadata": {},
   "source": [
    "# Taller de métodos numéricos básicos\n",
    "## Por M. en C. Lourdes Bibiana Merino Solís\n",
    "She++ tercera edición, 9 de octubre de 2021"
   ]
  },
  {
   "cell_type": "code",
   "execution_count": null,
   "metadata": {
    "colab": {
     "base_uri": "https://localhost:8080/",
     "height": 319
    },
    "id": "fRnKM1qG9Y_S",
    "outputId": "a8b4b415-0877-4aa8-e9b0-17deaebb6784"
   },
   "outputs": [
    {
     "name": "stdout",
     "output_type": "stream",
     "text": [
      "f ( -0.703125 ) =  0.0006511313011985931\n"
     ]
    },
    {
     "data": {
      "image/png": "[encoded data removed]",
      "text/plain": [
       "<Figure size 432x288 with 1 Axes>"
      ]
     },
     "metadata": {
      "needs_background": "light"
     },
     "output_type": "display_data"
    }
   ],
   "source": [
    "import numpy as np\n",
    "import matplotlib.pyplot as plt\n",
    "\n",
    "def funcion (x):\n",
    "  f = np.exp(x) - np.power(x,2)\n",
    "  #f = np.exp(x) + np.power(x,3) - 2\n",
    "  return f\n",
    "\n",
    "if __name__ == '__main__':\n",
    "  nmax = 100\n",
    "  tol = 0.01\n",
    "  a = -3\n",
    "  b = 3\n",
    "  xa = a\n",
    "  xb = b\n",
    "  f = funcion(xb)\n",
    "  it = 0\n",
    "  while np.abs(f) > tol and it < nmax:\n",
    "    it = it + 1\n",
    "    xn = (xa + xb)/2\n",
    "    fn = funcion(xn)\n",
    "    if f*fn < 0:\n",
    "      xa = xn\n",
    "    else:\n",
    "      xb = xn\n",
    "      f = fn\n",
    "  print('f (',xb,') = ', f)\n",
    "  #print(it)\n",
    "  ejex = np.arange(a, b, 0.2)\n",
    "  plt.figure()\n",
    "  plt.plot(ejex, [funcion(i) for i in ejex], 'r-')\n",
    "  plt.grid()\n",
    "  plt.title('Bisección', fontsize=15)\n",
    "  plt.xlabel('x', fontsize=15)\n",
    "  plt.ylabel('y', fontsize=15)\n",
    "  plt.show()"
   ]
  },
  {
   "cell_type": "code",
   "execution_count": null,
   "metadata": {
    "id": "BjBJfpKZO7Te"
   },
   "outputs": [],
   "source": [
    "import numpy as np\n",
    "import matplotlib.pyplot as plt\n",
    "\n",
    "def funcion (x):\n",
    "  #f = x*(1-x)*np.exp(x)\n",
    "  f = -np.power(x+2,2) - 4\n",
    "  return f\n",
    "\n",
    "if __name__ == '__main__':\n",
    "  nmax = 100\n",
    "  tol = 0.0001\n",
    "  a = -3\n",
    "  b = 3\n",
    "\n",
    "  xa =a\n",
    "  xb =b\n",
    "  fa = funcion(xa)\n",
    "  fb = funcion(xb)\n",
    "\n",
    "  R = 1- (np.power(5,0.5)-1)/2\n",
    "\n",
    "  \n",
    "  it = 0\n",
    "  x1 = xa + R*(xb-xa)\n",
    "  x2 = xb - R*(xb-xa)\n",
    "  f1 = funcion (x1)\n",
    "  f2 = funcion (x2)\n",
    "  while np.abs(xb -xa) > tol and it < nmax:\n",
    "    it = it + 1\n",
    "    #print(xa, x1, x2, xb)\n",
    "    if f1 > f2:\n",
    "      xb = x2\n",
    "      x2 = x1\n",
    "      x1 = xa + R*(xb-xa)\n",
    "      f2 = f1\n",
    "      f1 = funcion(x1)\n",
    "    else:\n",
    "      xa = x1\n",
    "      x1 = x2\n",
    "      x2 = xb - R*(xb-xa)\n",
    "      f1 =f2\n",
    "      f2 = funcion(x2)\n",
    "      \n",
    "  print('f (',x1,') = ', f1)\n",
    "  print(it)\n",
    "  ejex = np.arange(a, b, 0.2)\n",
    "  plt.figure()\n",
    "  plt.plot(ejex, [funcion(i) for i in ejex], 'r-')\n",
    "  plt.grid()\n",
    "  plt.title('Sección dorada', fontsize=15)\n",
    "  plt.xlabel('x', fontsize=15)\n",
    "  plt.ylabel('y', fontsize=15)\n",
    "  plt.show()"
   ]
  },
  {
   "cell_type": "code",
   "execution_count": null,
   "metadata": {
    "id": "k6L9z_fixffB"
   },
   "outputs": [],
   "source": [
    "import numpy as np\n",
    "import matplotlib.pyplot as plt\n",
    "\n",
    "def funcion (x):\n",
    "  f = np.exp(x) - np.power(x,2)\n",
    "  #f = np.exp(x) + np.power(x,3) - 2\n",
    "  return f\n",
    "\n",
    "def funcionder(x):\n",
    "  fp = np.exp(x) - 2*x\n",
    "  return fp\n",
    "\n",
    "if __name__ == '__main__':\n",
    "  nmax = 100\n",
    "  dx = 0.01\n",
    "  a = 0\n",
    "  b = 3\n",
    "  n = (b-a)/dx\n",
    "  x = np.arange(a, b, dx)\n",
    "  fp = np.zeros(int(n))\n",
    "  for i in range(int(n)-2):\n",
    "    fp[i+1] = (funcion(x[i+2]) - funcion(x[i]))/(2*dx)   \n",
    "  fp[0] = fp[1]\n",
    "  fp[int(n)-1] = fp[int(n)-2]\n",
    "  plt.figure()\n",
    "  plt.plot(x, [funcion(i) for i in x], 'r-')\n",
    "  plt.plot(x, [funcionder(i) for i in x], 'g.')\n",
    "  plt.plot(x, fp, 'b-')\n",
    "  plt.grid()\n",
    "  plt.title('Primer derivada', fontsize=15)\n",
    "  plt.xlabel('x', fontsize=15)\n",
    "  plt.ylabel('f', fontsize=15)\n",
    "  plt.show()"
   ]
  },
  {
   "cell_type": "code",
   "execution_count": null,
   "metadata": {
    "id": "GuR_Ygp-72qO"
   },
   "outputs": [],
   "source": [
    "import numpy as np\n",
    "import matplotlib.pyplot as plt\n",
    "\n",
    "if __name__ == '__main__':\n",
    "  \n",
    "  n = 10\n",
    "  x = np.array([5.20, 5.24, 5.28, 5.32, 5.36, 5.40, 5.44, 5.48, 5.52, 5.56])\n",
    "  y = np.array([0.47, 0.472, 0.477, 0.48, 0.483, 0.485, 0.489, 0.491, 0.493, 0.495])\n",
    "\n",
    "  sx = 0\n",
    "  sy = 0\n",
    "  sx2 = 0\n",
    "  sxy = 0\n",
    "  for i in range(int(n)):\n",
    "    sx = sx + x[i]\n",
    "    sy = sy + y[i]\n",
    "    sx2 = sx2 + x[i]*x[i]\n",
    "    sxy = sxy + x[i]*y[i]\n",
    "\n",
    "  m = (n*sxy - sx*sy)/(n*sx2 - sx*sx)\n",
    "  b = (sx2*sy- sxy*sx)/(n*sx2 - sx*sx)\n",
    "\n",
    "  dat = np.zeros(int(n))\n",
    "  for i in range(int(n)):\n",
    "    dat[i] = m*x[i] + b\n",
    "  \n",
    "  plt.figure()\n",
    "  plt.plot(x, y, 'b.')\n",
    "  plt.plot(x,dat, 'r')\n",
    "  plt.grid()\n",
    "  plt.title('Ajuste', fontsize=15)\n",
    "  plt.xlabel('x', fontsize=15)\n",
    "  plt.ylabel('y', fontsize=15)\n",
    "  plt.show()\n"
   ]
  }
 ],
 "metadata": {
  "colab": {
   "collapsed_sections": [],
   "name": "metodosnum.ipynb",
   "provenance": []
  },
  "kernelspec": {
   "display_name": "Python 3",
   "language": "python",
   "name": "python3"
  },
  "language_info": {
   "codemirror_mode": {
    "name": "ipython",
    "version": 3
   },
   "file_extension": ".py",
   "mimetype": "text/x-python",
   "name": "python",
   "nbconvert_exporter": "python",
   "pygments_lexer": "ipython3",
   "version": "3.7.7"
  }
 },
 "nbformat": 4,
 "nbformat_minor": 4
}
